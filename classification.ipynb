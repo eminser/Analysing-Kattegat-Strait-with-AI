{
 "cells": [
  {
   "cell_type": "markdown",
   "source": [
    "Hello kagglers !!\n",
    "Today we will handle the basic classification problem. The dataset is derived from (DMA) Denmark Maritime Authority's (open source) AIS information. Our research question is, can we predict the type of ship in a particular region by looking at its characteristics such as width, length, and values such as course and speed? We will analyze the specific part of DMA's data:\n",
    "Region : Kattegat Strait\n",
    "Date   : Between 1 January 2022 - 10 March 2022\n",
    "\n",
    "AIS (Automatic Identification System) technology provides an effective means of tracking ships. The technology is based on Very High Frequency (VHF) broadcasting and carriage of AIS is mandatory for the majority of Safety of Life at Sea (SOLAS) ships greater than 300 gross tonnes. A proportion of other vessels, e.g., fishing and leisure craft, carry it voluntarily due to its usefulness.\n",
    "\n",
    "First importing the necessary libraries;"
   ],
   "metadata": {
    "collapsed": false,
    "pycharm": {
     "name": "#%% md\n"
    }
   }
  },
  {
   "cell_type": "code",
   "execution_count": 10,
   "outputs": [],
   "source": [
    "import numpy as np\n",
    "import pandas as pd\n",
    "import seaborn as sns\n",
    "import matplotlib.pyplot as plt\n",
    "from lightgbm import LGBMClassifier\n",
    "from sklearn.preprocessing import RobustScaler\n",
    "from sklearn.model_selection import train_test_split, cross_val_score, GridSearchCV, RandomizedSearchCV\n",
    "from sklearn.metrics import classification_report"
   ],
   "metadata": {
    "collapsed": false,
    "pycharm": {
     "name": "#%%\n"
    }
   }
  },
  {
   "cell_type": "code",
   "execution_count": 11,
   "outputs": [],
   "source": [
    "from warnings import filterwarnings\n",
    "filterwarnings('ignore')\n",
    "pd.set_option('display.max_columns', None)\n",
    "pd.set_option('display.width', 500)\n",
    "pd.set_option('display.float_format', lambda x: f'{x:.4f}')"
   ],
   "metadata": {
    "collapsed": false,
    "pycharm": {
     "name": "#%%\n"
    }
   }
  },
  {
   "cell_type": "markdown",
   "source": [
    "# FIRST TOUCH TO DATA"
   ],
   "metadata": {
    "collapsed": false,
    "pycharm": {
     "name": "#%% md\n"
    }
   }
  },
  {
   "cell_type": "markdown",
   "source": [
    "At sea all vessels propagate the informations related to herself. This information is divided into two as dynamic and static. Let's have a look at our data;"
   ],
   "metadata": {
    "collapsed": false,
    "pycharm": {
     "name": "#%% md\n"
    }
   }
  },
  {
   "cell_type": "code",
   "execution_count": 12,
   "outputs": [
    {
     "data": {
      "text/plain": "   Unnamed: 0       mmsi navigationalstatus    sog      cog  heading     shiptype   width  length  draught\n0           0  219019621      Unknown value 0.0000  86.0000  86.0000      Fishing  4.0000  9.0000      nan\n1           1  265628170      Unknown value 0.0000 334.5000      nan  Port tender  8.0000 27.0000      nan\n2           2  219005719      Unknown value 0.0000 208.7000      nan      Fishing  4.0000 11.0000      nan\n3           3  219028066      Unknown value 0.0000      nan      nan     Pleasure  3.0000 12.0000      nan\n4           4  212584000             Moored 0.0000 153.0000 106.0000        Cargo 13.0000 99.0000   6.3000",
      "text/html": "<div>\n<style scoped>\n    .dataframe tbody tr th:only-of-type {\n        vertical-align: middle;\n    }\n\n    .dataframe tbody tr th {\n        vertical-align: top;\n    }\n\n    .dataframe thead th {\n        text-align: right;\n    }\n</style>\n<table border=\"1\" class=\"dataframe\">\n  <thead>\n    <tr style=\"text-align: right;\">\n      <th></th>\n      <th>Unnamed: 0</th>\n      <th>mmsi</th>\n      <th>navigationalstatus</th>\n      <th>sog</th>\n      <th>cog</th>\n      <th>heading</th>\n      <th>shiptype</th>\n      <th>width</th>\n      <th>length</th>\n      <th>draught</th>\n    </tr>\n  </thead>\n  <tbody>\n    <tr>\n      <th>0</th>\n      <td>0</td>\n      <td>219019621</td>\n      <td>Unknown value</td>\n      <td>0.0000</td>\n      <td>86.0000</td>\n      <td>86.0000</td>\n      <td>Fishing</td>\n      <td>4.0000</td>\n      <td>9.0000</td>\n      <td>nan</td>\n    </tr>\n    <tr>\n      <th>1</th>\n      <td>1</td>\n      <td>265628170</td>\n      <td>Unknown value</td>\n      <td>0.0000</td>\n      <td>334.5000</td>\n      <td>nan</td>\n      <td>Port tender</td>\n      <td>8.0000</td>\n      <td>27.0000</td>\n      <td>nan</td>\n    </tr>\n    <tr>\n      <th>2</th>\n      <td>2</td>\n      <td>219005719</td>\n      <td>Unknown value</td>\n      <td>0.0000</td>\n      <td>208.7000</td>\n      <td>nan</td>\n      <td>Fishing</td>\n      <td>4.0000</td>\n      <td>11.0000</td>\n      <td>nan</td>\n    </tr>\n    <tr>\n      <th>3</th>\n      <td>3</td>\n      <td>219028066</td>\n      <td>Unknown value</td>\n      <td>0.0000</td>\n      <td>nan</td>\n      <td>nan</td>\n      <td>Pleasure</td>\n      <td>3.0000</td>\n      <td>12.0000</td>\n      <td>nan</td>\n    </tr>\n    <tr>\n      <th>4</th>\n      <td>4</td>\n      <td>212584000</td>\n      <td>Moored</td>\n      <td>0.0000</td>\n      <td>153.0000</td>\n      <td>106.0000</td>\n      <td>Cargo</td>\n      <td>13.0000</td>\n      <td>99.0000</td>\n      <td>6.3000</td>\n    </tr>\n  </tbody>\n</table>\n</div>"
     },
     "execution_count": 12,
     "metadata": {},
     "output_type": "execute_result"
    }
   ],
   "source": [
    "df = pd.read_csv(r\"E:\\12.EĞİTİM\\bootcamp\\kaggle\\classification.csv\")\n",
    "df.head()"
   ],
   "metadata": {
    "collapsed": false,
    "pycharm": {
     "name": "#%%\n"
    }
   }
  },
  {
   "cell_type": "markdown",
   "source": [
    "Static Informations (immutable)\n",
    "Static Information is provided by the subject vessel's crew and is transmitted every 6 minutes regardless of the vessel's movement status\n",
    "1   mmsi               : a unique identification number for each vessel station (the vessel's flag can also be deducted from it)\n",
    "2   shiptype           : ship's type (tanker, cargo, fishing etc)\n",
    "3   width              : width of vessel\n",
    "4   length             : length of vessel\n",
    "5   draught            : draught of vessel (the vertical distance between the waterline and the bottom of the hull (keel))\n",
    "\n",
    "Dinamic Informations (mutable)\n",
    "Dinamic Informations automatically transmitted every 2 to 10 seconds depending on the vessel's speed and course while underway and every 6 minutes while anchored from vessels\n",
    "6   navigationalstatus : instant situation (navigating, mooored etc)\n",
    "7   sog                : speed of ground\n",
    "8   cog                : course of ground (0 to 359 degrees)\n",
    "9   heading            : fore side (heading and cog are not same because of the wind, current. But they are close to each other)\n"
   ],
   "metadata": {
    "collapsed": false,
    "pycharm": {
     "name": "#%% md\n"
    }
   }
  },
  {
   "cell_type": "markdown",
   "source": [
    "Looking for shape"
   ],
   "metadata": {
    "collapsed": false,
    "pycharm": {
     "name": "#%% md\n"
    }
   }
  },
  {
   "cell_type": "code",
   "execution_count": 13,
   "outputs": [
    {
     "data": {
      "text/plain": "(358351, 10)"
     },
     "execution_count": 13,
     "metadata": {},
     "output_type": "execute_result"
    }
   ],
   "source": [
    "df.shape"
   ],
   "metadata": {
    "collapsed": false,
    "pycharm": {
     "name": "#%%\n"
    }
   }
  },
  {
   "cell_type": "markdown",
   "source": [
    "Removing the unneeded column"
   ],
   "metadata": {
    "collapsed": false,
    "pycharm": {
     "name": "#%% md\n"
    }
   }
  },
  {
   "cell_type": "code",
   "execution_count": 14,
   "outputs": [],
   "source": [
    "df.drop(['Unnamed: 0'], axis=1, inplace=True)"
   ],
   "metadata": {
    "collapsed": false,
    "pycharm": {
     "name": "#%%\n"
    }
   }
  },
  {
   "cell_type": "code",
   "execution_count": 15,
   "outputs": [
    {
     "data": {
      "text/plain": "mmsi                      0\nnavigationalstatus        0\nsog                     458\ncog                    3169\nheading               20614\nshiptype                  0\nwidth                  3711\nlength                 3743\ndraught               25543\ndtype: int64"
     },
     "execution_count": 15,
     "metadata": {},
     "output_type": "execute_result"
    }
   ],
   "source": [
    "df.isnull().sum() # we have lots of null values"
   ],
   "metadata": {
    "collapsed": false,
    "pycharm": {
     "name": "#%%\n"
    }
   }
  },
  {
   "cell_type": "markdown",
   "source": [
    "# EDA"
   ],
   "metadata": {
    "collapsed": false,
    "pycharm": {
     "name": "#%% md\n"
    }
   }
  },
  {
   "cell_type": "code",
   "execution_count": 16,
   "outputs": [
    {
     "name": "stdout",
     "output_type": "stream",
     "text": [
      "<class 'pandas.core.frame.DataFrame'>\n",
      "RangeIndex: 358351 entries, 0 to 358350\n",
      "Data columns (total 9 columns):\n",
      " #   Column              Non-Null Count   Dtype  \n",
      "---  ------              --------------   -----  \n",
      " 0   mmsi                358351 non-null  int64  \n",
      " 1   navigationalstatus  358351 non-null  object \n",
      " 2   sog                 357893 non-null  float64\n",
      " 3   cog                 355182 non-null  float64\n",
      " 4   heading             337737 non-null  float64\n",
      " 5   shiptype            358351 non-null  object \n",
      " 6   width               354640 non-null  float64\n",
      " 7   length              354608 non-null  float64\n",
      " 8   draught             332808 non-null  float64\n",
      "dtypes: float64(6), int64(1), object(2)\n",
      "memory usage: 24.6+ MB\n"
     ]
    }
   ],
   "source": [
    "df.info()"
   ],
   "metadata": {
    "collapsed": false,
    "pycharm": {
     "name": "#%%\n"
    }
   }
  },
  {
   "cell_type": "code",
   "execution_count": 17,
   "outputs": [],
   "source": [
    "def grab_col_names(dataframe, cat_th=10, car_th=20):\n",
    "\n",
    "    # cat_cols, cat_but_car\n",
    "    cat_cols = [col for col in dataframe.columns if dataframe[col].dtypes == \"O\"]\n",
    "    num_but_cat = [col for col in dataframe.columns if dataframe[col].nunique() < cat_th and\n",
    "                   dataframe[col].dtypes != \"O\"]\n",
    "    cat_but_car = [col for col in dataframe.columns if dataframe[col].nunique() > car_th and\n",
    "                   dataframe[col].dtypes == \"O\"]\n",
    "    cat_cols = cat_cols + num_but_cat\n",
    "    cat_cols = [col for col in cat_cols if col not in cat_but_car]\n",
    "\n",
    "    # num_cols\n",
    "    num_cols = [col for col in dataframe.columns if dataframe[col].dtypes != \"O\"]\n",
    "    num_cols = [col for col in num_cols if col not in num_but_cat]\n",
    "\n",
    "    print(f\"Observations: {dataframe.shape[0]}\")\n",
    "    print(f\"Variables: {dataframe.shape[1]}\")\n",
    "    print(f'cat_cols: {len(cat_cols)}')\n",
    "    print(f'num_cols: {len(num_cols)}')\n",
    "    print(f'cat_but_car: {len(cat_but_car)}')\n",
    "    print(f'num_but_cat: {len(num_but_cat)}')\n",
    "    return cat_cols, num_cols, cat_but_car"
   ],
   "metadata": {
    "collapsed": false,
    "pycharm": {
     "name": "#%%\n"
    }
   }
  },
  {
   "cell_type": "markdown",
   "source": [
    "We have 7 numeric and 2 categorical variables. There is no cardinal variable"
   ],
   "metadata": {
    "collapsed": false,
    "pycharm": {
     "name": "#%% md\n"
    }
   }
  },
  {
   "cell_type": "code",
   "execution_count": 18,
   "outputs": [
    {
     "name": "stdout",
     "output_type": "stream",
     "text": [
      "Observations: 358351\n",
      "Variables: 9\n",
      "cat_cols: 2\n",
      "num_cols: 7\n",
      "cat_but_car: 0\n",
      "num_but_cat: 0\n"
     ]
    }
   ],
   "source": [
    "cat_cols, num_cols, cat_but_car = grab_col_names(df)"
   ],
   "metadata": {
    "collapsed": false,
    "pycharm": {
     "name": "#%%\n"
    }
   }
  },
  {
   "cell_type": "markdown",
   "source": [
    "At sea, every vessel propagates the info regularly. It seems that we have 358351 observations, but our dataset has a fewer vessels number. Let's look;"
   ],
   "metadata": {
    "collapsed": false,
    "pycharm": {
     "name": "#%% md\n"
    }
   }
  },
  {
   "cell_type": "code",
   "execution_count": 19,
   "outputs": [
    {
     "data": {
      "text/plain": "(3894, 8)"
     },
     "execution_count": 19,
     "metadata": {},
     "output_type": "execute_result"
    }
   ],
   "source": [
    "df.groupby('mmsi').count().shape"
   ],
   "metadata": {
    "collapsed": false,
    "pycharm": {
     "name": "#%%\n"
    }
   }
  },
  {
   "cell_type": "code",
   "execution_count": 20,
   "outputs": [
    {
     "data": {
      "text/plain": "Under way using engine                                   307581\nUnknown value                                             17259\nConstrained by her draught                                12287\nEngaged in fishing                                        10798\nMoored                                                     4121\nReserved for future amendment [HSC]                        1872\nRestricted maneuverability                                 1868\nUnder way sailing                                          1396\nAt anchor                                                   513\nPower-driven vessel towing astern                           377\nPower-driven vessel pushing ahead or towing alongside       236\nNot under command                                            31\nReserved for future amendment [WIG]                          12\nName: navigationalstatus, dtype: int64"
     },
     "execution_count": 20,
     "metadata": {},
     "output_type": "execute_result"
    }
   ],
   "source": [
    "df['navigationalstatus'].value_counts() # the other important variable which tell us the ship's navigational status"
   ],
   "metadata": {
    "collapsed": false,
    "pycharm": {
     "name": "#%%\n"
    }
   }
  },
  {
   "cell_type": "markdown",
   "source": [
    "Detailed analyze for the missing values; (Number of missing values and the ratio)"
   ],
   "metadata": {
    "collapsed": false,
    "pycharm": {
     "name": "#%% md\n"
    }
   }
  },
  {
   "cell_type": "code",
   "execution_count": 21,
   "outputs": [
    {
     "name": "stdout",
     "output_type": "stream",
     "text": [
      "         n_miss  ratio\n",
      "sog         458 0.0013\n",
      "cog        3169 0.0088\n",
      "heading   20614 0.0575\n",
      "width      3711 0.0104\n",
      "length     3743 0.0104\n",
      "draught   25543 0.0713\n"
     ]
    }
   ],
   "source": [
    "def missing_values_table(data):\n",
    "    m=data.isnull().sum()\n",
    "    print(pd.DataFrame({'n_miss' : m[m!=0],'ratio' : m[m!=0]/len(data)}))\n",
    "\n",
    "missing_values_table(df)"
   ],
   "metadata": {
    "collapsed": false,
    "pycharm": {
     "name": "#%%\n"
    }
   }
  },
  {
   "cell_type": "markdown",
   "source": [
    "Detailed analyze for the outliers;"
   ],
   "metadata": {
    "collapsed": false,
    "pycharm": {
     "name": "#%% md\n"
    }
   }
  },
  {
   "cell_type": "code",
   "execution_count": 22,
   "outputs": [
    {
     "name": "stdout",
     "output_type": "stream",
     "text": [
      "\n",
      " Number of outliers for 'mmsi' : 24\n",
      "\n",
      " Number of outliers for 'sog' : 2910\n",
      "\n",
      " Number of outliers for 'width' : 9\n",
      "\n",
      " Number of outliers for 'length' : 47\n",
      "\n",
      " Number of outliers for 'draught' : 567\n"
     ]
    }
   ],
   "source": [
    "def thresholds(col, data, d, u):\n",
    "    q3=data[col].quantile(u)\n",
    "    q1=data[col].quantile(d)\n",
    "    down=q1-(q3-q1)*1.5\n",
    "    up=q1+(q3-q1)*1.5\n",
    "    return down, up\n",
    "\n",
    "def check_outliers(col, data, d=0.25, u=0.75, plot=False):\n",
    "    down, up = thresholds(col, data, d, u)\n",
    "    ind = data[(data[col] < down) | (data[col] > up)].index\n",
    "    if plot:\n",
    "        sns.boxplot(x=col, data=data)\n",
    "        plt.show()\n",
    "    if len(ind)!= 0:\n",
    "        print(f\"\\n Number of outliers for '{col}' : {len(ind)}\")\n",
    "        return col\n",
    "\n",
    "for col in num_cols:\n",
    "    check_outliers(col, df, 0.01, 0.99)"
   ],
   "metadata": {
    "collapsed": false,
    "pycharm": {
     "name": "#%%\n"
    }
   }
  },
  {
   "cell_type": "markdown",
   "source": [
    "Correlations;"
   ],
   "metadata": {
    "collapsed": false,
    "pycharm": {
     "name": "#%% md\n"
    }
   }
  },
  {
   "cell_type": "code",
   "execution_count": 23,
   "outputs": [
    {
     "name": "stdout",
     "output_type": "stream",
     "text": [
      "heading  cog     0.9617\n",
      "length   width   0.9564\n",
      "dtype: float64\n"
     ]
    },
    {
     "data": {
      "text/plain": "<Figure size 432x288 with 2 Axes>",
      "image/png": "[encoded data removed]"
     },
     "metadata": {
      "needs_background": "light"
     },
     "output_type": "display_data"
    },
    {
     "data": {
      "text/plain": "[('heading', 'cog'), ('length', 'width')]"
     },
     "execution_count": 23,
     "metadata": {},
     "output_type": "execute_result"
    }
   ],
   "source": [
    "def corr_analyzer(data, corr_th=0.7, plot=False):\n",
    "    corr_matrix = pd.DataFrame(np.tril(data.corr(), k=-1), columns=data.corr().columns, index=data.corr().columns)\n",
    "    corr = corr_matrix[corr_matrix>corr_th].stack()\n",
    "    print(corr)\n",
    "    if plot: # Görsel olarak analiz\n",
    "        sns.heatmap(corr_matrix, cmap='Greys')\n",
    "        plt.show()\n",
    "    return corr[corr>corr_th].index.tolist()\n",
    "\n",
    "corr_analyzer(df, corr_th=0.75, plot=True)"
   ],
   "metadata": {
    "collapsed": false,
    "pycharm": {
     "name": "#%%\n"
    }
   }
  },
  {
   "cell_type": "markdown",
   "source": [
    "# FEATURE ENGINEERING"
   ],
   "metadata": {
    "collapsed": false,
    "pycharm": {
     "name": "#%% md\n"
    }
   }
  },
  {
   "cell_type": "markdown",
   "source": [
    "Actually 'cog' and 'heading' variables are very similar. We can combine these two as a one;"
   ],
   "metadata": {
    "collapsed": false,
    "pycharm": {
     "name": "#%% md\n"
    }
   }
  },
  {
   "cell_type": "code",
   "execution_count": 24,
   "outputs": [],
   "source": [
    "df['route'] = np.where(df['cog'].isnull(), df['heading'], df['cog'])\n",
    "rot= [-1, 45, 90, 135, 180, 225, 270, 315, 360]\n",
    "df['waypoint'] = pd.cut(df['route'], rot, labels=['NNE','ENE','ESE','SSE','SSW','WSW','WNW','NNW']) # these are directions\n",
    "df['waypoint'] = np.where((df['sog']<5.5) & (df['waypoint'].isnull()), 'FIX', df['waypoint']) # for stable vessels"
   ],
   "metadata": {
    "collapsed": false,
    "pycharm": {
     "name": "#%%\n"
    }
   }
  },
  {
   "cell_type": "markdown",
   "source": [
    "Vessels speed depends on ship type mostly;"
   ],
   "metadata": {
    "collapsed": false,
    "pycharm": {
     "name": "#%% md\n"
    }
   }
  },
  {
   "cell_type": "code",
   "execution_count": 25,
   "outputs": [],
   "source": [
    "df['speed'] = df[\"sog\"].fillna(df.groupby(['shiptype', 'waypoint'])['sog'].transform('mean'))"
   ],
   "metadata": {
    "collapsed": false,
    "pycharm": {
     "name": "#%%\n"
    }
   }
  },
  {
   "cell_type": "markdown",
   "source": [
    "New aspect for the dimensions;"
   ],
   "metadata": {
    "collapsed": false,
    "pycharm": {
     "name": "#%% md\n"
    }
   }
  },
  {
   "cell_type": "code",
   "execution_count": 26,
   "outputs": [],
   "source": [
    "df['dimension'] = df['width'] * df['length']"
   ],
   "metadata": {
    "collapsed": false,
    "pycharm": {
     "name": "#%%\n"
    }
   }
  },
  {
   "cell_type": "markdown",
   "source": [
    "We have totally 3894 ships. Let's have a look at the final form of output"
   ],
   "metadata": {
    "collapsed": false,
    "pycharm": {
     "name": "#%% md\n"
    }
   }
  },
  {
   "cell_type": "code",
   "execution_count": 27,
   "outputs": [
    {
     "data": {
      "text/plain": "shiptype\nCargo               1716\nDredging              53\nFishing              325\nHSC                   27\nLaw enforcement       20\nMilitary              79\nPassenger            123\nPilot                 41\nPleasure             414\nPort tender           12\nReserved              12\nSAR                  123\nSailing              215\nTanker               642\nTowing                11\nTowing long/wide       3\nTug                   78\nName: mmsi, dtype: int64"
     },
     "execution_count": 27,
     "metadata": {},
     "output_type": "execute_result"
    }
   ],
   "source": [
    "df = df.drop_duplicates(subset='mmsi') # one vessel has more than one data\n",
    "df.groupby(['shiptype'])['mmsi'].count()"
   ],
   "metadata": {
    "collapsed": false,
    "pycharm": {
     "name": "#%%\n"
    }
   }
  },
  {
   "cell_type": "code",
   "execution_count": 28,
   "outputs": [],
   "source": [
    "df.drop(['cog', 'heading', 'route', 'sog', 'mmsi'], axis=1, inplace=True) # no need anymore"
   ],
   "metadata": {
    "collapsed": false,
    "pycharm": {
     "name": "#%%\n"
    }
   }
  },
  {
   "cell_type": "markdown",
   "source": [
    "# ENCODING"
   ],
   "metadata": {
    "collapsed": false,
    "pycharm": {
     "name": "#%% md\n"
    }
   }
  },
  {
   "cell_type": "code",
   "execution_count": 29,
   "outputs": [
    {
     "name": "stdout",
     "output_type": "stream",
     "text": [
      "Observations: 3894\n",
      "Variables: 8\n",
      "cat_cols: 3\n",
      "num_cols: 5\n",
      "cat_but_car: 0\n",
      "num_but_cat: 0\n"
     ]
    }
   ],
   "source": [
    "cat_cols, num_cols, cat_but_car = grab_col_names(df) # taking account for the new variables"
   ],
   "metadata": {
    "collapsed": false,
    "pycharm": {
     "name": "#%%\n"
    }
   }
  },
  {
   "cell_type": "code",
   "execution_count": 30,
   "outputs": [
    {
     "name": "stdout",
     "output_type": "stream",
     "text": [
      "                                                    navigationalstatus   Ratio\n",
      "Under way using engine                                            2587 66.4355\n",
      "Unknown value                                                      926 23.7802\n",
      "Moored                                                             130  3.3385\n",
      "Engaged in fishing                                                 100  2.5681\n",
      "Constrained by her draught                                          81  2.0801\n",
      "Restricted maneuverability                                          21  0.5393\n",
      "At anchor                                                           20  0.5136\n",
      "Under way sailing                                                   17  0.4366\n",
      "Reserved for future amendment [HSC]                                  5  0.1284\n",
      "Not under command                                                    3  0.0770\n",
      "Power-driven vessel towing astern                                    2  0.0514\n",
      "Reserved for future amendment [WIG]                                  1  0.0257\n",
      "Power-driven vessel pushing ahead or towing alo...                   1  0.0257\n",
      "##########################################\n",
      "                  shiptype   Ratio\n",
      "Cargo                 1716 44.0678\n",
      "Tanker                 642 16.4869\n",
      "Pleasure               414 10.6317\n",
      "Fishing                325  8.3462\n",
      "Sailing                215  5.5213\n",
      "SAR                    123  3.1587\n",
      "Passenger              123  3.1587\n",
      "Military                79  2.0288\n",
      "Tug                     78  2.0031\n",
      "Dredging                53  1.3611\n",
      "Pilot                   41  1.0529\n",
      "HSC                     27  0.6934\n",
      "Law enforcement         20  0.5136\n",
      "Port tender             12  0.3082\n",
      "Reserved                12  0.3082\n",
      "Towing                  11  0.2825\n",
      "Towing long/wide         3  0.0770\n",
      "##########################################\n",
      "     waypoint   Ratio\n",
      "SSE       688 17.6682\n",
      "NNW       659 16.9235\n",
      "ESE       616 15.8192\n",
      "NNE       612 15.7165\n",
      "ENE       485 12.4551\n",
      "SSW       307  7.8839\n",
      "FIX       243  6.2404\n",
      "WSW       166  4.2630\n",
      "WNW       115  2.9533\n",
      "##########################################\n"
     ]
    }
   ],
   "source": [
    "def cat_summary(dataframe, col_name, plot=False):\n",
    "    print(pd.DataFrame({col_name: dataframe[col_name].value_counts(),\n",
    "                        \"Ratio\": 100 * dataframe[col_name].value_counts() / len(dataframe)}))\n",
    "    print(\"##########################################\")\n",
    "    if plot:\n",
    "        sns.countplot(x=dataframe[col_name], data=dataframe)\n",
    "        plt.show()\n",
    "\n",
    "for col in cat_cols:\n",
    "    cat_summary(df, col)"
   ],
   "metadata": {
    "collapsed": false,
    "pycharm": {
     "name": "#%%\n"
    }
   }
  },
  {
   "cell_type": "markdown",
   "source": [
    "In our dataset, there are rare values in categorical variables. We will group these classes"
   ],
   "metadata": {
    "collapsed": false,
    "pycharm": {
     "name": "#%% md\n"
    }
   }
  },
  {
   "cell_type": "code",
   "execution_count": 31,
   "outputs": [],
   "source": [
    "def rare_encoder(dataframe, rare_perc):\n",
    "    temp_df = dataframe.copy()\n",
    "    rare_columns = [col for col in temp_df.columns if temp_df[col].dtypes == 'O'\n",
    "                    and (temp_df[col].value_counts() / len(temp_df) < rare_perc).any(axis=None)]\n",
    "    for var in rare_columns:\n",
    "        tmp = temp_df[var].value_counts() / len(temp_df)\n",
    "        rare_labels = tmp[tmp < rare_perc].index\n",
    "        temp_df[var] = np.where(temp_df[var].isin(rare_labels), 'Rare', temp_df[var])\n",
    "    return temp_df\n",
    "\n",
    "df = rare_encoder(df, 0.02) # Less than %2 ratio will be grouped"
   ],
   "metadata": {
    "collapsed": false,
    "pycharm": {
     "name": "#%%\n"
    }
   }
  },
  {
   "cell_type": "code",
   "execution_count": 32,
   "outputs": [],
   "source": [
    "df['status'] = df['navigationalstatus'].where(\n",
    "    ~((df['navigationalstatus']=='Unknown value') | (df['navigationalstatus']=='Rare')), 'Other') # combining two groups"
   ],
   "metadata": {
    "collapsed": false,
    "pycharm": {
     "name": "#%%\n"
    }
   }
  },
  {
   "cell_type": "markdown",
   "source": [
    "Since we make new variable from 'navigationalstatus', we will disregard this variable. Also if we remember there are high corrrelations between 'dimension', 'width' and 'length'. So we will disregard 'width' and 'length' variables."
   ],
   "metadata": {
    "collapsed": false,
    "pycharm": {
     "name": "#%% md\n"
    }
   }
  },
  {
   "cell_type": "code",
   "execution_count": 33,
   "outputs": [
    {
     "name": "stdout",
     "output_type": "stream",
     "text": [
      "Observations: 3894\n",
      "Variables: 6\n",
      "cat_cols: 3\n",
      "num_cols: 3\n",
      "cat_but_car: 0\n",
      "num_but_cat: 0\n"
     ]
    }
   ],
   "source": [
    "df.drop(['navigationalstatus', 'width', 'length'], axis=1, inplace=True)\n",
    "cat_cols, num_cols, cat_but_car = grab_col_names(df)"
   ],
   "metadata": {
    "collapsed": false,
    "pycharm": {
     "name": "#%%\n"
    }
   }
  },
  {
   "cell_type": "markdown",
   "source": [
    "Splitting data as an output and predictors;"
   ],
   "metadata": {
    "collapsed": false,
    "pycharm": {
     "name": "#%% md\n"
    }
   }
  },
  {
   "cell_type": "code",
   "execution_count": 34,
   "outputs": [],
   "source": [
    "y = df['shiptype']\n",
    "X= df.drop('shiptype', axis=1)"
   ],
   "metadata": {
    "collapsed": false,
    "pycharm": {
     "name": "#%%\n"
    }
   }
  },
  {
   "cell_type": "markdown",
   "source": [
    "One hot encoder process;"
   ],
   "metadata": {
    "collapsed": false,
    "pycharm": {
     "name": "#%% md\n"
    }
   }
  },
  {
   "cell_type": "code",
   "execution_count": 35,
   "outputs": [
    {
     "data": {
      "text/plain": "   draught  speed  dimension  waypoint_ESE  waypoint_FIX  waypoint_NNE  waypoint_NNW  waypoint_SSE  waypoint_SSW  waypoint_WNW  waypoint_WSW  status_Engaged in fishing  status_Moored  status_Other  status_Under way using engine\n0      nan 0.0000    36.0000             0             0             0             0             0             0             0             0                          0              0             1                              0\n1      nan 0.0000   216.0000             0             0             0             1             0             0             0             0                          0              0             1                              0\n2      nan 0.0000    44.0000             0             0             0             0             0             1             0             0                          0              0             1                              0",
      "text/html": "<div>\n<style scoped>\n    .dataframe tbody tr th:only-of-type {\n        vertical-align: middle;\n    }\n\n    .dataframe tbody tr th {\n        vertical-align: top;\n    }\n\n    .dataframe thead th {\n        text-align: right;\n    }\n</style>\n<table border=\"1\" class=\"dataframe\">\n  <thead>\n    <tr style=\"text-align: right;\">\n      <th></th>\n      <th>draught</th>\n      <th>speed</th>\n      <th>dimension</th>\n      <th>waypoint_ESE</th>\n      <th>waypoint_FIX</th>\n      <th>waypoint_NNE</th>\n      <th>waypoint_NNW</th>\n      <th>waypoint_SSE</th>\n      <th>waypoint_SSW</th>\n      <th>waypoint_WNW</th>\n      <th>waypoint_WSW</th>\n      <th>status_Engaged in fishing</th>\n      <th>status_Moored</th>\n      <th>status_Other</th>\n      <th>status_Under way using engine</th>\n    </tr>\n  </thead>\n  <tbody>\n    <tr>\n      <th>0</th>\n      <td>nan</td>\n      <td>0.0000</td>\n      <td>36.0000</td>\n      <td>0</td>\n      <td>0</td>\n      <td>0</td>\n      <td>0</td>\n      <td>0</td>\n      <td>0</td>\n      <td>0</td>\n      <td>0</td>\n      <td>0</td>\n      <td>0</td>\n      <td>1</td>\n      <td>0</td>\n    </tr>\n    <tr>\n      <th>1</th>\n      <td>nan</td>\n      <td>0.0000</td>\n      <td>216.0000</td>\n      <td>0</td>\n      <td>0</td>\n      <td>0</td>\n      <td>1</td>\n      <td>0</td>\n      <td>0</td>\n      <td>0</td>\n      <td>0</td>\n      <td>0</td>\n      <td>0</td>\n      <td>1</td>\n      <td>0</td>\n    </tr>\n    <tr>\n      <th>2</th>\n      <td>nan</td>\n      <td>0.0000</td>\n      <td>44.0000</td>\n      <td>0</td>\n      <td>0</td>\n      <td>0</td>\n      <td>0</td>\n      <td>0</td>\n      <td>1</td>\n      <td>0</td>\n      <td>0</td>\n      <td>0</td>\n      <td>0</td>\n      <td>1</td>\n      <td>0</td>\n    </tr>\n  </tbody>\n</table>\n</div>"
     },
     "execution_count": 35,
     "metadata": {},
     "output_type": "execute_result"
    }
   ],
   "source": [
    "def one_hot_encoder(dataframe, categorical_cols, drop_first=True):\n",
    "    dataframe = pd.get_dummies(dataframe, columns=categorical_cols, drop_first=drop_first)\n",
    "    return dataframe\n",
    "\n",
    "X = one_hot_encoder(X, ['waypoint', 'status'])\n",
    "X.head(3)"
   ],
   "metadata": {
    "collapsed": false,
    "pycharm": {
     "name": "#%%\n"
    }
   }
  },
  {
   "cell_type": "markdown",
   "source": [
    "The scaling process is an important phase. We will use 'RobustScaler' because it has better results for the outliers"
   ],
   "metadata": {
    "collapsed": false,
    "pycharm": {
     "name": "#%% md\n"
    }
   }
  },
  {
   "cell_type": "code",
   "execution_count": 36,
   "outputs": [],
   "source": [
    "scaler = RobustScaler()\n",
    "X = pd.DataFrame(scaler.fit_transform(X), columns=X.columns)"
   ],
   "metadata": {
    "collapsed": false,
    "pycharm": {
     "name": "#%%\n"
    }
   }
  },
  {
   "cell_type": "markdown",
   "source": [
    "# MODELING"
   ],
   "metadata": {
    "collapsed": false,
    "pycharm": {
     "name": "#%% md\n"
    }
   }
  },
  {
   "cell_type": "markdown",
   "source": [
    "Since it's quick and accurate, Ligth GBM will be used"
   ],
   "metadata": {
    "collapsed": false,
    "pycharm": {
     "name": "#%% md\n"
    }
   }
  },
  {
   "cell_type": "code",
   "execution_count": 37,
   "outputs": [],
   "source": [
    "X_train, X_test, y_train, y_test = train_test_split(X, y, train_size=0.7, random_state=42)"
   ],
   "metadata": {
    "collapsed": false,
    "pycharm": {
     "name": "#%%\n"
    }
   }
  },
  {
   "cell_type": "code",
   "execution_count": 38,
   "outputs": [
    {
     "data": {
      "text/plain": "LGBMClassifier(random_state=17)"
     },
     "execution_count": 38,
     "metadata": {},
     "output_type": "execute_result"
    }
   ],
   "source": [
    "lgbm_model = LGBMClassifier(random_state=17) # basic model\n",
    "lgbm_model"
   ],
   "metadata": {
    "collapsed": false,
    "pycharm": {
     "name": "#%%\n"
    }
   }
  },
  {
   "cell_type": "code",
   "execution_count": 39,
   "outputs": [
    {
     "name": "stdout",
     "output_type": "stream",
     "text": [
      "Fitting 5 folds for each of 200 candidates, totalling 1000 fits\n"
     ]
    },
    {
     "name": "stderr",
     "output_type": "stream",
     "text": [
      "[Parallel(n_jobs=-1)]: Using backend LokyBackend with 12 concurrent workers.\n",
      "[Parallel(n_jobs=-1)]: Done  26 tasks      | elapsed:   24.7s\n",
      "[Parallel(n_jobs=-1)]: Done 176 tasks      | elapsed:  2.3min\n",
      "[Parallel(n_jobs=-1)]: Done 426 tasks      | elapsed:  5.4min\n",
      "[Parallel(n_jobs=-1)]: Done 776 tasks      | elapsed:  9.1min\n",
      "[Parallel(n_jobs=-1)]: Done 1000 out of 1000 | elapsed: 11.7min finished\n"
     ]
    },
    {
     "data": {
      "text/plain": "RandomizedSearchCV(cv=5, estimator=LGBMClassifier(random_state=17), n_iter=200,\n                   n_jobs=-1,\n                   param_distributions={'colsample_bytree': array([0.2, 0.4, 0.6, 0.8, 1. ]),\n                                        'learning_rate': array([0.001     , 0.02726316, 0.05352632, 0.07978947, 0.10605263,\n       0.13231579, 0.15857895, 0.18484211, 0.21110526, 0.23736842,\n       0.26363158, 0.28989474, 0.31615789, 0.34242105, 0.36868421,\n       0.39494737, 0.42121053, 0.44747368, 0.47373684, 0.5       ]),\n                                        'max_depth': range(2, 20, 2),\n                                        'n_estimators': range(200, 2000, 200)},\n                   random_state=42, verbose=True)"
     },
     "execution_count": 39,
     "metadata": {},
     "output_type": "execute_result"
    }
   ],
   "source": [
    "lgbm_param={'max_depth' : range(2, 20, 2),\n",
    "            'learning_rate' : np.linspace(0.001, 0.5, 20),\n",
    "            'n_estimators' : range(200, 2000, 200),\n",
    "            'colsample_bytree' : np.arange(0.2, 1.1, 0.2)}\n",
    "\n",
    "lgbm_random = RandomizedSearchCV(estimator=lgbm_model,\n",
    "                               param_distributions=lgbm_param,\n",
    "                               n_iter=200,  # number of parameters\n",
    "                               cv=5,\n",
    "                               verbose=True,\n",
    "                               random_state=42,\n",
    "                               n_jobs=-1)\n",
    "lgbm_random.fit(X, y)"
   ],
   "metadata": {
    "collapsed": false,
    "pycharm": {
     "name": "#%%\n"
    }
   }
  },
  {
   "cell_type": "code",
   "execution_count": 40,
   "outputs": [
    {
     "data": {
      "text/plain": "{'n_estimators': 600,\n 'max_depth': 2,\n 'learning_rate': 0.053526315789473686,\n 'colsample_bytree': 0.6000000000000001}"
     },
     "execution_count": 40,
     "metadata": {},
     "output_type": "execute_result"
    }
   ],
   "source": [
    "lgbm_random.best_params_ # En iyi hiperparametre değerleri"
   ],
   "metadata": {
    "collapsed": false,
    "pycharm": {
     "name": "#%%\n"
    }
   }
  },
  {
   "cell_type": "code",
   "execution_count": 41,
   "outputs": [
    {
     "data": {
      "text/plain": "0.6954275305166797"
     },
     "execution_count": 41,
     "metadata": {},
     "output_type": "execute_result"
    }
   ],
   "source": [
    "lgbm_random.best_score_  # En iyi skor"
   ],
   "metadata": {
    "collapsed": false,
    "pycharm": {
     "name": "#%%\n"
    }
   }
  },
  {
   "cell_type": "code",
   "execution_count": 42,
   "outputs": [
    {
     "name": "stdout",
     "output_type": "stream",
     "text": [
      "Fitting 10 folds for each of 81 candidates, totalling 810 fits\n"
     ]
    },
    {
     "name": "stderr",
     "output_type": "stream",
     "text": [
      "[Parallel(n_jobs=-1)]: Using backend LokyBackend with 12 concurrent workers.\n",
      "[Parallel(n_jobs=-1)]: Done  26 tasks      | elapsed:   12.1s\n",
      "[Parallel(n_jobs=-1)]: Done 176 tasks      | elapsed:  1.4min\n",
      "[Parallel(n_jobs=-1)]: Done 426 tasks      | elapsed:  3.3min\n",
      "[Parallel(n_jobs=-1)]: Done 776 tasks      | elapsed:  6.0min\n",
      "[Parallel(n_jobs=-1)]: Done 810 out of 810 | elapsed:  6.3min finished\n"
     ]
    },
    {
     "data": {
      "text/plain": "GridSearchCV(cv=10, estimator=LGBMClassifier(random_state=17), n_jobs=-1,\n             param_grid={'colsample_bytree': [0.6, 0.7, 0.8],\n                         'learning_rate': [0.007, 0.01, 0.05],\n                         'max_depth': [4, 5, 6],\n                         'n_estimators': [600, 700, 800]},\n             verbose=True)"
     },
     "execution_count": 42,
     "metadata": {},
     "output_type": "execute_result"
    }
   ],
   "source": [
    "lgbm_param={'max_depth' : [4, 5, 6],\n",
    "            'learning_rate' : [0.007, 0.01, 0.05],\n",
    "            'n_estimators' : [600, 700, 800],\n",
    "            'colsample_bytree' : [0.6, 0.7, 0.8]}\n",
    "\n",
    "lgbm_cv = GridSearchCV(lgbm_model, lgbm_param, cv=10, n_jobs=-1, verbose=True)\n",
    "lgbm_cv.fit(X, y)"
   ],
   "metadata": {
    "collapsed": false,
    "pycharm": {
     "name": "#%%\n"
    }
   }
  },
  {
   "cell_type": "code",
   "execution_count": 43,
   "outputs": [
    {
     "data": {
      "text/plain": "{'colsample_bytree': 0.7,\n 'learning_rate': 0.007,\n 'max_depth': 6,\n 'n_estimators': 800}"
     },
     "execution_count": 43,
     "metadata": {},
     "output_type": "execute_result"
    }
   ],
   "source": [
    "lgbm_cv.best_params_ # These are the best parameters for our model"
   ],
   "metadata": {
    "collapsed": false,
    "pycharm": {
     "name": "#%%\n"
    }
   }
  },
  {
   "cell_type": "code",
   "execution_count": 44,
   "outputs": [
    {
     "data": {
      "text/plain": "0.7000692109946609"
     },
     "execution_count": 44,
     "metadata": {},
     "output_type": "execute_result"
    }
   ],
   "source": [
    "lgbm_cv.best_score_  # En iyi skor"
   ],
   "metadata": {
    "collapsed": false,
    "pycharm": {
     "name": "#%%\n"
    }
   }
  },
  {
   "cell_type": "code",
   "execution_count": 45,
   "outputs": [],
   "source": [
    "lgbm_final = lgbm_model.set_params(**lgbm_cv.best_params_, random_state=17).fit(X_train, y_train)"
   ],
   "metadata": {
    "collapsed": false,
    "pycharm": {
     "name": "#%%\n"
    }
   }
  },
  {
   "cell_type": "code",
   "execution_count": 46,
   "outputs": [
    {
     "data": {
      "text/plain": "0.6792366637194224"
     },
     "execution_count": 46,
     "metadata": {},
     "output_type": "execute_result"
    }
   ],
   "source": [
    "lgbm_results = cross_val_score(lgbm_final, X_test, y_test, cv=10, scoring=\"accuracy\").mean()\n",
    "lgbm_results"
   ],
   "metadata": {
    "collapsed": false,
    "pycharm": {
     "name": "#%%\n"
    }
   }
  },
  {
   "cell_type": "code",
   "source": [
    "y_pred = lgbm_final.predict(X_test)\n",
    "print(classification_report(y_test, y_pred))"
   ],
   "metadata": {
    "collapsed": false,
    "pycharm": {
     "name": "#%%\n"
    }
   },
   "execution_count": 47,
   "outputs": [
    {
     "name": "stdout",
     "output_type": "stream",
     "text": [
      "              precision    recall  f1-score   support\n",
      "\n",
      "       Cargo       0.78      0.92      0.84       484\n",
      "     Fishing       0.67      0.59      0.63        95\n",
      "    Military       0.52      0.52      0.52        21\n",
      "   Passenger       0.57      0.40      0.47        40\n",
      "    Pleasure       0.46      0.74      0.57       129\n",
      "        Rare       0.56      0.35      0.43        63\n",
      "         SAR       0.41      0.39      0.40        38\n",
      "     Sailing       0.44      0.16      0.24        68\n",
      "      Tanker       0.83      0.55      0.66       206\n",
      "         Tug       0.61      0.44      0.51        25\n",
      "\n",
      "    accuracy                           0.68      1169\n",
      "   macro avg       0.59      0.51      0.53      1169\n",
      "weighted avg       0.68      0.68      0.67      1169\n",
      "\n"
     ]
    }
   ]
  },
  {
   "cell_type": "markdown",
   "source": [
    "Our accuracy score is approximitly %68. Actually this accuracy score is nice for multiclass prediction. Let's look detailed;"
   ],
   "metadata": {
    "collapsed": false,
    "pycharm": {
     "name": "#%% md\n"
    }
   }
  },
  {
   "cell_type": "markdown",
   "source": [
    "# PLOT IMPORTANCE"
   ],
   "metadata": {
    "collapsed": false,
    "pycharm": {
     "name": "#%% md\n"
    }
   }
  },
  {
   "cell_type": "code",
   "execution_count": 48,
   "outputs": [],
   "source": [
    "def plot_importance(model, features, num=len(X)):\n",
    "    feature_imp = pd.DataFrame({'Value': model.feature_importances_, 'Feature': features.columns})\n",
    "    plt.figure(figsize=(10, 10))\n",
    "    sns.set(font_scale=1)\n",
    "    sns.barplot(x=\"Value\", y=\"Feature\", data=feature_imp.sort_values(by=\"Value\", ascending=False)[0:num])\n",
    "    plt.title('Features')\n",
    "    plt.tight_layout()\n",
    "    plt.show()"
   ],
   "metadata": {
    "collapsed": false,
    "pycharm": {
     "name": "#%%\n"
    }
   }
  },
  {
   "cell_type": "code",
   "execution_count": 49,
   "outputs": [
    {
     "data": {
      "text/plain": "<Figure size 720x720 with 1 Axes>",
      "image/png": "[encoded data removed]"
     },
     "metadata": {
      "needs_background": "light"
     },
     "output_type": "display_data"
    }
   ],
   "source": [
    "plot_importance(lgbm_final, X_train)"
   ],
   "metadata": {
    "collapsed": false,
    "pycharm": {
     "name": "#%%\n"
    }
   }
  },
  {
   "cell_type": "markdown",
   "source": [
    "# PREDICTION"
   ],
   "metadata": {
    "collapsed": false,
    "pycharm": {
     "name": "#%% md\n"
    }
   }
  },
  {
   "cell_type": "code",
   "execution_count": 50,
   "outputs": [],
   "source": [
    "def estimator(sample):\n",
    "   print(f\"Our Actual Ship Type \\t: {lgbm_final.predict(random_ship)[0]}\")\n",
    "   temp = y.reset_index()\n",
    "   print(f\"Our Predicted Ship Type \\t: {temp[temp.index==sample.index[0]].iloc[0,1]}\")"
   ],
   "metadata": {
    "collapsed": false,
    "pycharm": {
     "name": "#%%\n"
    }
   }
  },
  {
   "cell_type": "code",
   "execution_count": 51,
   "outputs": [
    {
     "data": {
      "text/plain": "      draught  speed  dimension  waypoint_ESE  waypoint_FIX  waypoint_NNE  waypoint_NNW  waypoint_SSE  waypoint_SSW  waypoint_WNW  waypoint_WSW  status_Engaged in fishing  status_Moored  status_Other  status_Under way using engine\n1978   1.7273 0.2222     1.0966        0.0000        0.0000        0.0000        1.0000        0.0000        0.0000        0.0000        0.0000                     0.0000         0.0000        0.0000                         0.0000",
      "text/html": "<div>\n<style scoped>\n    .dataframe tbody tr th:only-of-type {\n        vertical-align: middle;\n    }\n\n    .dataframe tbody tr th {\n        vertical-align: top;\n    }\n\n    .dataframe thead th {\n        text-align: right;\n    }\n</style>\n<table border=\"1\" class=\"dataframe\">\n  <thead>\n    <tr style=\"text-align: right;\">\n      <th></th>\n      <th>draught</th>\n      <th>speed</th>\n      <th>dimension</th>\n      <th>waypoint_ESE</th>\n      <th>waypoint_FIX</th>\n      <th>waypoint_NNE</th>\n      <th>waypoint_NNW</th>\n      <th>waypoint_SSE</th>\n      <th>waypoint_SSW</th>\n      <th>waypoint_WNW</th>\n      <th>waypoint_WSW</th>\n      <th>status_Engaged in fishing</th>\n      <th>status_Moored</th>\n      <th>status_Other</th>\n      <th>status_Under way using engine</th>\n    </tr>\n  </thead>\n  <tbody>\n    <tr>\n      <th>1978</th>\n      <td>1.7273</td>\n      <td>0.2222</td>\n      <td>1.0966</td>\n      <td>0.0000</td>\n      <td>0.0000</td>\n      <td>0.0000</td>\n      <td>1.0000</td>\n      <td>0.0000</td>\n      <td>0.0000</td>\n      <td>0.0000</td>\n      <td>0.0000</td>\n      <td>0.0000</td>\n      <td>0.0000</td>\n      <td>0.0000</td>\n      <td>0.0000</td>\n    </tr>\n  </tbody>\n</table>\n</div>"
     },
     "execution_count": 51,
     "metadata": {},
     "output_type": "execute_result"
    }
   ],
   "source": [
    "random_ship = X.sample(1)\n",
    "random_ship# this is our one sample to predict"
   ],
   "metadata": {
    "collapsed": false,
    "pycharm": {
     "name": "#%%\n"
    }
   }
  }
 ],
 "metadata": {
  "kernelspec": {
   "display_name": "Python 3",
   "language": "python",
   "name": "python3"
  },
  "language_info": {
   "codemirror_mode": {
    "name": "ipython",
    "version": 2
   },
   "file_extension": ".py",
   "mimetype": "text/x-python",
   "name": "python",
   "nbconvert_exporter": "python",
   "pygments_lexer": "ipython2",
   "version": "2.7.6"
  }
 },
 "nbformat": 4,
 "nbformat_minor": 0
}